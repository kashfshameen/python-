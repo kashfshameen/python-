{
  "cells": [
    {
      "cell_type": "markdown",
      "metadata": {
        "id": "view-in-github",
        "colab_type": "text"
      },
      "source": [
        "<a href=\"https://colab.research.google.com/github/kashfshameen/python-/blob/main/PROJECTS/53_self_coding_challenges/00_intro_python/01_add_two_numbers.ipynb\" target=\"_parent\"><img src=\"https://colab.research.google.com/assets/colab-badge.svg\" alt=\"Open In Colab\"/></a>"
      ]
    },
    {
      "cell_type": "code",
      "execution_count": null,
      "metadata": {
        "id": "DOUzVWUmV3mH"
      },
      "outputs": [],
      "source": []
    },
    {
      "cell_type": "markdown",
      "metadata": {
        "id": "WTjCagcNWxBR"
      },
      "source": []
    },
    {
      "cell_type": "markdown",
      "metadata": {
        "id": "JeUuq3a6W0ty"
      },
      "source": [
        "Write a Python program that takes two integer inputs from the user and calculates their sum. The program should perform the following tasks:\n",
        "\n",
        "Prompt the user to enter the first number.\n",
        "\n",
        "Read the input and convert it to an integer.\n",
        "\n",
        "Prompt the user to enter the second number.\n",
        "\n",
        "Read the input and convert it to an integer.\n",
        "\n",
        "Calculate the sum of the two numbers.\n",
        "\n",
        "Print the total sum with an appropriate message."
      ]
    },
    {
      "cell_type": "code",
      "execution_count": 2,
      "metadata": {
        "colab": {
          "base_uri": "https://localhost:8080/"
        },
        "id": "4nXdFgTXW6Cs",
        "outputId": "edbab3e8-dea9-47b7-fe8e-e84d80a8ac37"
      },
      "outputs": [
        {
          "output_type": "stream",
          "name": "stdout",
          "text": [
            "enter first number12\n",
            "enter second number23\n",
            "35\n"
          ]
        }
      ],
      "source": [
        "first_number=input(\"enter first number\")\n",
        "first_number=int(first_number)\n",
        "second_number=input(\"enter second number\")\n",
        "second_number=int(second_number)\n",
        "def sum(first_number,second_number):\n",
        "    sum=first_number+second_number\n",
        "    return sum\n",
        "\n",
        "print(sum(first_number, second_number))"
      ]
    }
  ],
  "metadata": {
    "colab": {
      "provenance": [],
      "authorship_tag": "ABX9TyPMhmJmNQJh0Z1gJwYMLYof",
      "include_colab_link": true
    },
    "kernelspec": {
      "display_name": "Python 3",
      "name": "python3"
    },
    "language_info": {
      "name": "python"
    }
  },
  "nbformat": 4,
  "nbformat_minor": 0
}